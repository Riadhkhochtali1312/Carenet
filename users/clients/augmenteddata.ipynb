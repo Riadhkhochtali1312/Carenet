{
 "cells": [
  {
   "cell_type": "code",
   "execution_count": 2,
   "metadata": {},
   "outputs": [],
   "source": [
    "import pandas as pd\n",
    "import numpy as np\n"
   ]
  },
  {
   "cell_type": "code",
   "execution_count": 4,
   "metadata": {},
   "outputs": [
    {
     "name": "stdout",
     "output_type": "stream",
     "text": [
      "(1000, 7)\n"
     ]
    }
   ],
   "source": [
    "# Load your existing CSV file into a DataFrame\n",
    "existing_df = pd.read_csv(\"C:/Users/riadh/OneDrive/Documents/happy/Vitalview.csv\")\n",
    "\n",
    "# Generate additional rows to reach 3000 total rows\n",
    "additional_rows = 1000 - len(existing_df)\n",
    "additional_data = {\n",
    "    'age': np.random.randint(20, 80, additional_rows),\n",
    "    'sex': np.random.choice(['male', 'female'], additional_rows),\n",
    "    'trestbps': np.random.randint(100, 170, additional_rows),\n",
    "    'chol': np.random.randint(250, 300, additional_rows),\n",
    "    'fbs': np.random.randint(70, 180, additional_rows),\n",
    "    'thalach': np.random.randint(110, 169, additional_rows),\n",
    "    'target': np.random.randint(0, 2, additional_rows)\n",
    "}\n",
    "\n",
    "additional_df = pd.DataFrame(additional_data)\n",
    "\n",
    "# Concatenate the existing and additional dataframes\n",
    "final_df = pd.concat([existing_df, additional_df], ignore_index=True)\n",
    "\n",
    "# Check the shape of the final dataframe\n",
    "print(final_df.shape)\n",
    "\n",
    "# Optionally, you can save the final dataframe to a new CSV file\n",
    "final_df.to_csv('expanded_dataset3.csv', index=False)"
   ]
  },
  {
   "cell_type": "code",
   "execution_count": null,
   "metadata": {},
   "outputs": [],
   "source": []
  }
 ],
 "metadata": {
  "kernelspec": {
   "display_name": "NewProject",
   "language": "python",
   "name": "python3"
  },
  "language_info": {
   "codemirror_mode": {
    "name": "ipython",
    "version": 3
   },
   "file_extension": ".py",
   "mimetype": "text/x-python",
   "name": "python",
   "nbconvert_exporter": "python",
   "pygments_lexer": "ipython3",
   "version": "3.9.10"
  },
  "orig_nbformat": 4
 },
 "nbformat": 4,
 "nbformat_minor": 2
}
